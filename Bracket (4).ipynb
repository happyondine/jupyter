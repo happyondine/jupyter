{
  "nbformat": 4,
  "nbformat_minor": 0,
  "metadata": {
    "colab": {
      "name": "Bracket.ipynb",
      "provenance": []
    },
    "kernelspec": {
      "name": "python3",
      "display_name": "Python 3"
    }
  },
  "cells": [
    {
      "cell_type": "code",
      "metadata": {
        "id": "mcSS0iW6KiKu",
        "colab_type": "code",
        "colab": {}
      },
      "source": [
        "import cv2 as cv\n",
        "import numpy as np\n",
        "import matplotlib.pyplot as plt\n",
        "import os\n",
        "\n",
        "import matplotlib.mlab as mlab\n",
        "import matplotlib.gridspec as gridspec\n"
      ],
      "execution_count": 0,
      "outputs": []
    },
    {
      "cell_type": "code",
      "metadata": {
        "id": "VgbT4uq9KrMd",
        "colab_type": "code",
        "colab": {
          "resources": {
            "http://localhost:8080/nbextensions/google.colab/files.js": {
              "data": "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",
              "ok": true,
              "headers": [
                [
                  "content-type",
                  "application/javascript"
                ]
              ],
              "status": 200,
              "status_text": ""
            }
          },
          "base_uri": "https://localhost:8080/",
          "height": 88
        },
        "outputId": "2db08863-91c0-4505-b474-92daacb900fc"
      },
      "source": [
        "from google.colab import files \n",
        "\n",
        "uploaded = files.upload()\n",
        "\n",
        "for fn in uploaded.keys():\n",
        "  print('User uploaded file \"{name}\" with length {length} bytes'.format(\n",
        "      name=fn, length=len(uploaded[fn]))) "
      ],
      "execution_count": 39,
      "outputs": [
        {
          "output_type": "display_data",
          "data": {
            "text/html": [
              "\n",
              "     <input type=\"file\" id=\"files-b1f20163-45a3-467c-8f8e-f381d778601f\" name=\"files[]\" multiple disabled />\n",
              "     <output id=\"result-b1f20163-45a3-467c-8f8e-f381d778601f\">\n",
              "      Upload widget is only available when the cell has been executed in the\n",
              "      current browser session. Please rerun this cell to enable.\n",
              "      </output>\n",
              "      <script src=\"/nbextensions/google.colab/files.js\"></script> "
            ],
            "text/plain": [
              "<IPython.core.display.HTML object>"
            ]
          },
          "metadata": {
            "tags": []
          }
        },
        {
          "output_type": "stream",
          "text": [
            "Saving data_3000.zip to data_3000 (1).zip\n",
            "User uploaded file \"data_3000.zip\" with length 3309996 bytes\n"
          ],
          "name": "stdout"
        }
      ]
    },
    {
      "cell_type": "code",
      "metadata": {
        "id": "2Wtlqa4NKrgm",
        "colab_type": "code",
        "colab": {}
      },
      "source": [
        "! mkdir data_3000\n",
        "! unzip data_3000.zip -d ./data_3000"
      ],
      "execution_count": 0,
      "outputs": []
    },
    {
      "cell_type": "code",
      "metadata": {
        "id": "DhC1RMkYK09a",
        "colab_type": "code",
        "colab": {
          "base_uri": "https://localhost:8080/",
          "height": 34
        },
        "outputId": "d1f8e9dc-2dc3-4ab1-9db6-d35e4d203e9d"
      },
      "source": [
        "%tensorflow_version 2.x\n",
        "from __future__ import absolute_import\n",
        "from __future__ import division\n",
        "from __future__ import print_function\n",
        "\n",
        "import tensorflow as tf\n",
        "from tensorflow import keras\n",
        "from tensorflow.keras.utils import to_categorical\n",
        "from keras.preprocessing.image import ImageDataGenerator\n",
        "\n",
        "import scipy.io\n",
        "from sklearn.preprocessing import StandardScaler, MinMaxScaler\n",
        "from sklearn.model_selection import train_test_split\n",
        "\n"
      ],
      "execution_count": 41,
      "outputs": [
        {
          "output_type": "stream",
          "text": [
            "TensorFlow is already loaded. Please restart the runtime to change versions.\n"
          ],
          "name": "stdout"
        }
      ]
    },
    {
      "cell_type": "code",
      "metadata": {
        "id": "jCNJqnOvK1D1",
        "colab_type": "code",
        "colab": {
          "base_uri": "https://localhost:8080/",
          "height": 807
        },
        "outputId": "269c1841-5c20-44a1-dca5-3dceb03c081a"
      },
      "source": [
        "import cv2 as cv\n",
        "import numpy as np\n",
        "import matplotlib.pyplot as plt\n",
        "import os \n",
        "\n",
        "src = './data_3000/'\n",
        "\n",
        "def img_read_plot(src,file):\n",
        "    img = cv.imread(src + file,cv.COLOR_BGR2GRAY)\n",
        "    plt.imshow(img)\n",
        "    plt.xticks([]) \n",
        "    plt.yticks([]) \n",
        "    plt.show()\n",
        "    return img\n",
        "\n",
        "def img_read(src,file):\n",
        "    img = cv.imread(src+file,cv.COLOR_BGR2GRAY)\n",
        "    return img\n",
        "\n",
        "files = os.listdir(src)\n",
        "\n",
        "X,Y = [],[]\n",
        "count = 0\n",
        "\n",
        "for file in files: \n",
        "  # Visualized 3 sample images\n",
        "  # Normalized the image pixel range to 0~1\n",
        "  if count < 3 :  \n",
        "    print(count)\n",
        "    X.append(img_read_plot(src,file)/255.)\n",
        "    Y.append(float(file[:-4]))\n",
        "    count+=1\n",
        "  else : \n",
        "    X.append(img_read(src,file)/255.)\n",
        "    Y.append(float(file[:-4]))\n",
        "\n",
        "X = np.array(X)\n",
        "Y = np.array(Y)\n",
        "\n",
        "#Image size check\n",
        "print('X_shape:',np.shape(X[0]),'Y_shape:',np.shape(Y[0]))\n",
        "print('X_list shape:',np.shape(X),'Y_list shape:',np.shape(Y))"
      ],
      "execution_count": 42,
      "outputs": [
        {
          "output_type": "stream",
          "text": [
            "0\n"
          ],
          "name": "stdout"
        },
        {
          "output_type": "display_data",
          "data": {
            "image/png": "[encoded data removed]",
            "text/plain": [
              "<Figure size 432x288 with 1 Axes>"
            ]
          },
          "metadata": {
            "tags": []
          }
        },
        {
          "output_type": "stream",
          "text": [
            "1\n"
          ],
          "name": "stdout"
        },
        {
          "output_type": "display_data",
          "data": {
            "image/png": "[encoded data removed]",
            "text/plain": [
              "<Figure size 432x288 with 1 Axes>"
            ]
          },
          "metadata": {
            "tags": []
          }
        },
        {
          "output_type": "stream",
          "text": [
            "2\n"
          ],
          "name": "stdout"
        },
        {
          "output_type": "display_data",
          "data": {
            "image/png": "[encoded data removed]",
            "text/plain": [
              "<Figure size 432x288 with 1 Axes>"
            ]
          },
          "metadata": {
            "tags": []
          }
        },
        {
          "output_type": "stream",
          "text": [
            "X_shape: (56, 56) Y_shape: ()\n",
            "X_list shape: (3000, 56, 56) Y_list shape: (3000,)\n"
          ],
          "name": "stdout"
        }
      ]
    },
    {
      "cell_type": "code",
      "metadata": {
        "id": "o6Sc5bjDK1M8",
        "colab_type": "code",
        "colab": {}
      },
      "source": [
        "# Hyperparamenters\n",
        "learning_rate = 0.001\n",
        "training_epochs = 1000\n",
        "batch_size = 32 \n",
        "Buffer_size = 100"
      ],
      "execution_count": 0,
      "outputs": []
    },
    {
      "cell_type": "code",
      "metadata": {
        "id": "bFx0LLn4K1MM",
        "colab_type": "code",
        "colab": {
          "base_uri": "https://localhost:8080/",
          "height": 85
        },
        "outputId": "37a110ca-70cd-46d8-e00e-642c4d4fe342"
      },
      "source": [
        "#Images are splitted to 80:20 ratio\n",
        "train_images, test_images, train_labels, test_labels = train_test_split(X,Y, test_size=0.2, random_state=1, shuffle=True)\n",
        "\n",
        "train_images = np.expand_dims(train_images, axis=-1)\n",
        "test_images = np.expand_dims(test_images, axis=-1)\n",
        "\n",
        "print(np.shape(train_images))\n",
        "print(np.shape(test_images))\n",
        "print(np.shape(train_labels))\n",
        "print(np.shape(test_labels))\n",
        "\n",
        "train_dataset = tf.data.Dataset.from_tensor_slices((train_images, train_labels)).shuffle(Buffer_size).batch(batch_size)\n",
        "test_dataset = tf.data.Dataset.from_tensor_slices((test_images, test_labels)).batch(batch_size)\n",
        "\n"
      ],
      "execution_count": 44,
      "outputs": [
        {
          "output_type": "stream",
          "text": [
            "(2400, 56, 56, 1)\n",
            "(600, 56, 56, 1)\n",
            "(2400,)\n",
            "(600,)\n"
          ],
          "name": "stdout"
        }
      ]
    },
    {
      "cell_type": "code",
      "metadata": {
        "id": "lmVK_GazK1Gk",
        "colab_type": "code",
        "colab": {}
      },
      "source": [
        "#Convolutional Net\n",
        "class ConvBNRelu(tf.keras.Model):\n",
        "    def __init__(self, filters, kernel_size=3, strides=1, padding='SAME'):\n",
        "        super(ConvBNRelu, self).__init__()\n",
        "        self.conv = keras.layers.Conv2D(filters=filters, kernel_size=kernel_size, kernel_regularizer=tf.contrib.layers.l2_regularizer(1e-5), strides=strides, \n",
        "                                        padding=padding, kernel_initializer='glorot_normal')\n",
        "        self.batchnorm = tf.keras.layers.BatchNormalization()\n",
        "    def call(self, inputs, training=False):\n",
        "        layer = self.conv(inputs)\n",
        "        layer = self.batchnorm(layer)\n",
        "        layer = tf.nn.relu(layer)\n",
        "        return layer"
      ],
      "execution_count": 0,
      "outputs": []
    },
    {
      "cell_type": "code",
      "metadata": {
        "id": "VwDn9gtgLf5A",
        "colab_type": "code",
        "colab": {}
      },
      "source": [
        "#Fully Connected net \n",
        "class DenseBNRelu(tf.keras.Model):\n",
        "    def __init__(self, units):\n",
        "        super(DenseBNRelu, self).__init__()\n",
        "        self.dense = keras.layers.Dense(units=units, kernel_initializer='glorot_normal',kernel_regularizer=tf.contrib.layers.l2_regularizer(1e-5))\n",
        "        self.batchnorm = tf.keras.layers.BatchNormalization()\n",
        "    def call(self, inputs, training=False):\n",
        "        layer = self.dense(inputs)\n",
        "        layer = self.batchnorm(layer)\n",
        "        layer = tf.nn.relu(layer)\n",
        "        return layer"
      ],
      "execution_count": 0,
      "outputs": []
    },
    {
      "cell_type": "code",
      "metadata": {
        "id": "wBcvT-KYLgGP",
        "colab_type": "code",
        "colab": {}
      },
      "source": [
        "#Final Model \n",
        "class AllModels(tf.keras.Model):\n",
        "    def __init__(self):\n",
        "        super(AllModels, self).__init__()\n",
        "        self.conv1 = ConvBNRelu(filters=32)        \n",
        "        self.pool1 = keras.layers.MaxPool2D()\n",
        "        self.conv2 = ConvBNRelu(filters=64)\n",
        "        self.pool2 = keras.layers.MaxPool2D()\n",
        "        self.conv3 = ConvBNRelu(filters=128)\n",
        "        self.pool3 = keras.layers.MaxPool2D()\n",
        "        self.pool3_flat = keras.layers.Flatten()\n",
        "        self.dense4 = DenseBNRelu(units=256)\n",
        "        self.drop4 = keras.layers.Dropout(rate=0.4)\n",
        "        self.dense5 = keras.layers.Dense(units=1)\n",
        "    def call(self, inputs, training=False):\n",
        "        net = self.conv1(inputs)        \n",
        "        net = self.pool1(net)\n",
        "        net = self.conv2(net)\n",
        "        net = self.pool2(net)\n",
        "        net = self.conv3(net)\n",
        "        net = self.pool3(net)\n",
        "        net = self.pool3_flat(net)\n",
        "        net = self.dense4(net)\n",
        "        net = self.drop4(net)\n",
        "        net = self.dense5(net)\n",
        "        return net"
      ],
      "execution_count": 0,
      "outputs": []
    },
    {
      "cell_type": "code",
      "metadata": {
        "id": "Pzs5Dzy9LgEA",
        "colab_type": "code",
        "colab": {
          "base_uri": "https://localhost:8080/",
          "height": 493
        },
        "outputId": "5cb7ef1f-9e3b-4477-d5e9-f620cb134b6f"
      },
      "source": [
        "#Summary of the model\n",
        "model=AllModels()\n",
        "\n",
        "temp_inputs = keras.Input(shape=(56, 56, 1))\n",
        "model(temp_inputs)\n",
        "model.summary()"
      ],
      "execution_count": 60,
      "outputs": [
        {
          "output_type": "stream",
          "text": [
            "Model: \"all_models_5\"\n",
            "_________________________________________________________________\n",
            "Layer (type)                 Output Shape              Param #   \n",
            "=================================================================\n",
            "conv_bn_relu_15 (ConvBNRelu) (None, 56, 56, 32)        448       \n",
            "_________________________________________________________________\n",
            "max_pooling2d_15 (MaxPooling (None, 28, 28, 32)        0         \n",
            "_________________________________________________________________\n",
            "conv_bn_relu_16 (ConvBNRelu) (None, 28, 28, 64)        18752     \n",
            "_________________________________________________________________\n",
            "max_pooling2d_16 (MaxPooling (None, 14, 14, 64)        0         \n",
            "_________________________________________________________________\n",
            "conv_bn_relu_17 (ConvBNRelu) (None, 14, 14, 128)       74368     \n",
            "_________________________________________________________________\n",
            "max_pooling2d_17 (MaxPooling (None, 7, 7, 128)         0         \n",
            "_________________________________________________________________\n",
            "flatten_5 (Flatten)          (None, 6272)              0         \n",
            "_________________________________________________________________\n",
            "dense_bn_relu_5 (DenseBNRelu (None, 256)               1606912   \n",
            "_________________________________________________________________\n",
            "dropout_5 (Dropout)          (None, 256)               0         \n",
            "_________________________________________________________________\n",
            "dense_11 (Dense)             (None, 1)                 257       \n",
            "=================================================================\n",
            "Total params: 1,700,737\n",
            "Trainable params: 1,699,777\n",
            "Non-trainable params: 960\n",
            "_________________________________________________________________\n"
          ],
          "name": "stdout"
        }
      ]
    },
    {
      "cell_type": "code",
      "metadata": {
        "id": "ibfRLmPTLgCN",
        "colab_type": "code",
        "colab": {
          "base_uri": "https://localhost:8080/",
          "height": 938
        },
        "outputId": "202a8d0c-d32b-4137-987f-8d7fdeb8731d"
      },
      "source": [
        "#To calculate the validation accuracy using Root Mean Square Error(RMSE) & Mean Absolute Percentage Error(MAPE)\n",
        "import keras.backend as K\n",
        "\n",
        "def rmse (y_true, y_pred):  \n",
        "  return K.sqrt(K.mean(K.square(y_pred - y_true), axis=-1))\n",
        "\n",
        "model.compile(loss='MSE', optimizer='adam', metrics=[ rmse, 'mape' ]) \n",
        "\n",
        "history = model.fit(train_images, train_labels,      \n",
        "          batch_size=batch_size,                      \n",
        "          epochs=training_epochs,                    \n",
        "          verbose=1,                                 \n",
        "          validation_data=(test_images, test_labels)) \n",
        "\n",
        "score = model.evaluate(test_images, test_labels, verbose=0) \n",
        "\n",
        "print('Test loss(mse) :', score[0])\n",
        "print('Test RMSE :', score[1])\n",
        "print('Test MAPE :', score[2])"
      ],
      "execution_count": 0,
      "outputs": [
        {
          "output_type": "stream",
          "text": [
            "Train on 2400 samples, validate on 600 samples\n",
            "Epoch 1/1000\n",
            "2400/2400 [==============================] - 27s 11ms/sample - loss: 519.8381 - rmse: 22.5747 - mean_absolute_percentage_error: 82.9890 - val_loss: 472.5247 - val_rmse: 21.6839 - val_mean_absolute_percentage_error: 79.8474\n",
            "Epoch 2/1000\n",
            "2400/2400 [==============================] - 26s 11ms/sample - loss: 197.4594 - rmse: 13.6398 - mean_absolute_percentage_error: 50.1414 - val_loss: 191.0527 - val_rmse: 13.7407 - val_mean_absolute_percentage_error: 50.5253\n",
            "Epoch 3/1000\n",
            "2400/2400 [==============================] - 26s 11ms/sample - loss: 45.8796 - rmse: 5.9901 - mean_absolute_percentage_error: 21.9982 - val_loss: 74.1847 - val_rmse: 8.4384 - val_mean_absolute_percentage_error: 30.9827\n",
            "Epoch 4/1000\n",
            "2400/2400 [==============================] - 26s 11ms/sample - loss: 13.6339 - rmse: 3.0044 - mean_absolute_percentage_error: 11.0241 - val_loss: 33.2199 - val_rmse: 5.4880 - val_mean_absolute_percentage_error: 20.1637\n",
            "Epoch 5/1000\n",
            "2400/2400 [==============================] - 26s 11ms/sample - loss: 11.1216 - rmse: 2.6448 - mean_absolute_percentage_error: 9.7119 - val_loss: 31.4472 - val_rmse: 4.8485 - val_mean_absolute_percentage_error: 17.8486\n",
            "Epoch 6/1000\n",
            "2400/2400 [==============================] - 26s 11ms/sample - loss: 11.1216 - rmse: 2.6685 - mean_absolute_percentage_error: 9.8093 - val_loss: 1.9456 - val_rmse: 1.1040 - val_mean_absolute_percentage_error: 4.0452\n",
            "Epoch 7/1000\n",
            "2400/2400 [==============================] - 26s 11ms/sample - loss: 9.8376 - rmse: 2.4955 - mean_absolute_percentage_error: 9.1724 - val_loss: 10.8703 - val_rmse: 2.9789 - val_mean_absolute_percentage_error: 10.9470\n",
            "Epoch 8/1000\n",
            "2400/2400 [==============================] - 26s 11ms/sample - loss: 10.2728 - rmse: 2.5420 - mean_absolute_percentage_error: 9.3303 - val_loss: 3.6461 - val_rmse: 1.5278 - val_mean_absolute_percentage_error: 5.6683\n",
            "Epoch 9/1000\n",
            "2400/2400 [==============================] - 26s 11ms/sample - loss: 9.7845 - rmse: 2.4954 - mean_absolute_percentage_error: 9.1753 - val_loss: 2.8502 - val_rmse: 1.3403 - val_mean_absolute_percentage_error: 4.9150\n",
            "Epoch 10/1000\n",
            "2400/2400 [==============================] - 26s 11ms/sample - loss: 9.1155 - rmse: 2.4096 - mean_absolute_percentage_error: 8.8658 - val_loss: 4.5259 - val_rmse: 1.7437 - val_mean_absolute_percentage_error: 6.4755\n",
            "Epoch 11/1000\n",
            "2400/2400 [==============================] - 26s 11ms/sample - loss: 9.2246 - rmse: 2.4195 - mean_absolute_percentage_error: 8.9007 - val_loss: 7.3084 - val_rmse: 2.1988 - val_mean_absolute_percentage_error: 8.2136\n",
            "Epoch 12/1000\n",
            "2400/2400 [==============================] - 26s 11ms/sample - loss: 9.6518 - rmse: 2.5168 - mean_absolute_percentage_error: 9.2450 - val_loss: 4.0220 - val_rmse: 1.6176 - val_mean_absolute_percentage_error: 5.9531\n",
            "Epoch 13/1000\n",
            "2400/2400 [==============================] - 26s 11ms/sample - loss: 9.2112 - rmse: 2.4221 - mean_absolute_percentage_error: 8.9090 - val_loss: 1.8591 - val_rmse: 1.0855 - val_mean_absolute_percentage_error: 4.0090\n",
            "Epoch 14/1000\n",
            "2400/2400 [==============================] - 26s 11ms/sample - loss: 9.0647 - rmse: 2.4059 - mean_absolute_percentage_error: 8.8483 - val_loss: 3.6718 - val_rmse: 1.6033 - val_mean_absolute_percentage_error: 5.9765\n",
            "Epoch 15/1000\n",
            "2400/2400 [==============================] - 26s 11ms/sample - loss: 8.5979 - rmse: 2.3300 - mean_absolute_percentage_error: 8.5580 - val_loss: 4.7191 - val_rmse: 1.7397 - val_mean_absolute_percentage_error: 6.4334\n",
            "Epoch 16/1000\n",
            "2400/2400 [==============================] - 26s 11ms/sample - loss: 8.0044 - rmse: 2.2512 - mean_absolute_percentage_error: 8.2645 - val_loss: 2.5329 - val_rmse: 1.2942 - val_mean_absolute_percentage_error: 4.7875\n",
            "Epoch 17/1000\n",
            "2400/2400 [==============================] - 26s 11ms/sample - loss: 8.1562 - rmse: 2.2742 - mean_absolute_percentage_error: 8.3610 - val_loss: 3.4651 - val_rmse: 1.5215 - val_mean_absolute_percentage_error: 5.6147\n",
            "Epoch 18/1000\n",
            "2400/2400 [==============================] - 26s 11ms/sample - loss: 8.0506 - rmse: 2.2532 - mean_absolute_percentage_error: 8.2734 - val_loss: 2.0480 - val_rmse: 1.1431 - val_mean_absolute_percentage_error: 4.2129\n",
            "Epoch 19/1000\n",
            "2400/2400 [==============================] - 26s 11ms/sample - loss: 7.9384 - rmse: 2.2276 - mean_absolute_percentage_error: 8.1820 - val_loss: 2.2030 - val_rmse: 1.2069 - val_mean_absolute_percentage_error: 4.4834\n",
            "Epoch 20/1000\n",
            "2400/2400 [==============================] - 26s 11ms/sample - loss: 8.0692 - rmse: 2.2644 - mean_absolute_percentage_error: 8.3273 - val_loss: 1.5340 - val_rmse: 0.9527 - val_mean_absolute_percentage_error: 3.4846\n",
            "Epoch 21/1000\n",
            "2400/2400 [==============================] - 26s 11ms/sample - loss: 7.5168 - rmse: 2.1892 - mean_absolute_percentage_error: 8.0424 - val_loss: 3.5786 - val_rmse: 1.5557 - val_mean_absolute_percentage_error: 5.7379\n",
            "Epoch 22/1000\n",
            "2400/2400 [==============================] - 26s 11ms/sample - loss: 7.9644 - rmse: 2.2357 - mean_absolute_percentage_error: 8.2251 - val_loss: 6.9620 - val_rmse: 2.2957 - val_mean_absolute_percentage_error: 8.4927\n",
            "Epoch 23/1000\n",
            "2400/2400 [==============================] - 26s 11ms/sample - loss: 7.2424 - rmse: 2.1293 - mean_absolute_percentage_error: 7.8280 - val_loss: 1.6720 - val_rmse: 1.0305 - val_mean_absolute_percentage_error: 3.7845\n",
            "Epoch 24/1000\n",
            "2400/2400 [==============================] - 26s 11ms/sample - loss: 7.2283 - rmse: 2.1345 - mean_absolute_percentage_error: 7.8437 - val_loss: 1.3046 - val_rmse: 0.9012 - val_mean_absolute_percentage_error: 3.3082\n",
            "Epoch 25/1000\n",
            "2400/2400 [==============================] - 26s 11ms/sample - loss: 7.2054 - rmse: 2.1477 - mean_absolute_percentage_error: 7.8923 - val_loss: 1.8765 - val_rmse: 1.0789 - val_mean_absolute_percentage_error: 3.9342\n",
            "Epoch 26/1000\n",
            "1312/2400 [===============>..............] - ETA: 11s - loss: 6.9915 - rmse: 2.1383 - mean_absolute_percentage_error: 7.8687"
          ],
          "name": "stdout"
        }
      ]
    },
    {
      "cell_type": "code",
      "metadata": {
        "id": "cP9L6DCgLf_e",
        "colab_type": "code",
        "colab": {}
      },
      "source": [
        "\n",
        "#still working on augmentaion, ensemble coding.."
      ],
      "execution_count": 0,
      "outputs": []
    },
    {
      "cell_type": "code",
      "metadata": {
        "id": "sm84quv5Lf7l",
        "colab_type": "code",
        "colab": {}
      },
      "source": [
        ""
      ],
      "execution_count": 0,
      "outputs": []
    },
    {
      "cell_type": "code",
      "metadata": {
        "id": "f6_B4oLwK1B-",
        "colab_type": "code",
        "colab": {}
      },
      "source": [
        ""
      ],
      "execution_count": 0,
      "outputs": []
    },
    {
      "cell_type": "code",
      "metadata": {
        "id": "xyIcH57BK0_-",
        "colab_type": "code",
        "colab": {}
      },
      "source": [
        ""
      ],
      "execution_count": 0,
      "outputs": []
    }
  ]
}