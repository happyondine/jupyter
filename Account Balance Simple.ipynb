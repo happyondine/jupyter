{
 "cells": [
  {
   "cell_type": "code",
   "execution_count": 154,
   "metadata": {},
   "outputs": [],
   "source": [
    "class Account:\n",
    "    def __init__(self,name,value=0):\n",
    "        \n",
    "        self.name=name\n",
    "        self.value=value\n",
    "                \n",
    "    def deposit(self,amount):\n",
    "        \n",
    "        self.value=self.value+amount\n",
    "        print(f\"Deposit Accepted: ${amount}\")\n",
    "        \n",
    "    def withdraw(self,amount):\n",
    "        \n",
    "        if self.value<amount:\n",
    "            print(f\"Funds Unavailable to withdraw ${amount}\")\n",
    "        else:\n",
    "            self.value=self.value-amount\n",
    "            print(f\"Withdrawal Accepted: ${amount}\")\n",
    "            \n",
    "    def __str__(self):\n",
    "        return f\"Account Owner: {self.name} \\nAccount Balance: ${self.value}\""
   ]
  },
  {
   "cell_type": "code",
   "execution_count": 155,
   "metadata": {},
   "outputs": [],
   "source": [
    "acc1= Account('Jose',100)"
   ]
  },
  {
   "cell_type": "code",
   "execution_count": 156,
   "metadata": {},
   "outputs": [
    {
     "name": "stdout",
     "output_type": "stream",
     "text": [
      "Deposit Accepted: $50\n"
     ]
    }
   ],
   "source": [
    "acc1.deposit(50)"
   ]
  },
  {
   "cell_type": "code",
   "execution_count": 157,
   "metadata": {},
   "outputs": [
    {
     "name": "stdout",
     "output_type": "stream",
     "text": [
      "Withdrawal Accepted: $75\n"
     ]
    }
   ],
   "source": [
    "acc1.withdraw(75)\n"
   ]
  },
  {
   "cell_type": "code",
   "execution_count": 158,
   "metadata": {},
   "outputs": [
    {
     "name": "stdout",
     "output_type": "stream",
     "text": [
      "Funds Unavailable to withdraw $500\n"
     ]
    }
   ],
   "source": [
    "acc1.withdraw(500)"
   ]
  },
  {
   "cell_type": "code",
   "execution_count": 159,
   "metadata": {},
   "outputs": [
    {
     "name": "stdout",
     "output_type": "stream",
     "text": [
      "Account Owner: Jose \n",
      "Account Balance: $75\n"
     ]
    }
   ],
   "source": [
    "print(acc1)\n"
   ]
  },
  {
   "cell_type": "code",
   "execution_count": null,
   "metadata": {},
   "outputs": [],
   "source": []
  },
  {
   "cell_type": "code",
   "execution_count": null,
   "metadata": {},
   "outputs": [],
   "source": []
  }
 ],
 "metadata": {
  "kernelspec": {
   "display_name": "Python 3",
   "language": "python",
   "name": "python3"
  },
  "language_info": {
   "codemirror_mode": {
    "name": "ipython",
    "version": 3
   },
   "file_extension": ".py",
   "mimetype": "text/x-python",
   "name": "python",
   "nbconvert_exporter": "python",
   "pygments_lexer": "ipython3",
   "version": "3.7.1"
  }
 },
 "nbformat": 4,
 "nbformat_minor": 2
}
